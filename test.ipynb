{
 "cells": [
  {
   "cell_type": "code",
   "execution_count": 2,
   "metadata": {},
   "outputs": [],
   "source": [
    "import pandas as pd"
   ]
  },
  {
   "cell_type": "code",
   "execution_count": 212,
   "metadata": {},
   "outputs": [],
   "source": [
    "df = pd.read_excel('/Users/shadle/Downloads/Копия Копия МС источник Wi-Fi (01.12.20).xlsx', sheet_name = '01.12.20 (ляйсан)')\n"
   ]
  },
  {
   "cell_type": "code",
   "execution_count": 213,
   "metadata": {},
   "outputs": [],
   "source": [
    "new = df.iloc[0:122,7:-1].fillna(int(0))"
   ]
  },
  {
   "cell_type": "code",
   "execution_count": 214,
   "metadata": {},
   "outputs": [],
   "source": [
    "recomendations=pd.DataFrame()"
   ]
  },
  {
   "cell_type": "code",
   "execution_count": 215,
   "metadata": {},
   "outputs": [],
   "source": [
    "new = new.astype(str)\n"
   ]
  },
  {
   "cell_type": "code",
   "execution_count": 216,
   "metadata": {},
   "outputs": [],
   "source": [
    "new.to_excel('/Users/shadle/Downloads/DataSet.xlsx')"
   ]
  },
  {
   "cell_type": "code",
   "execution_count": 225,
   "metadata": {},
   "outputs": [],
   "source": [
    "df=pd.read_excel('/Users/shadle/Downloads/DataSet.xlsx',index_col=0)\n",
    "df = df.loc[2:24]\n",
    "#df.index.name = 'row'\n",
    "#df.iloc[:0,:0]\n",
    "df = df.astype(int)#.reset_index()"
   ]
  },
  {
   "cell_type": "code",
   "execution_count": 226,
   "metadata": {},
   "outputs": [
    {
     "data": {
      "text/plain": [
       "'for row in df:\\n    #print(row)\\n    #corrMatr=df.corrwith(df[row])\\n    #print(corrMatr)\\n    df[row] = df[row].astype(float)'"
      ]
     },
     "execution_count": 226,
     "metadata": {},
     "output_type": "execute_result"
    }
   ],
   "source": [
    "\n",
    "#print(df.index.name)\n",
    "\"\"\"for row in df:\n",
    "    #print(row)\n",
    "    #corrMatr=df.corrwith(df[row])\n",
    "    #print(corrMatr)\n",
    "    df[row] = df[row].astype(float)\"\"\"\n"
   ]
  },
  {
   "cell_type": "code",
   "execution_count": 235,
   "metadata": {},
   "outputs": [
    {
     "name": "stdout",
     "output_type": "stream",
     "text": [
      "Мясо\n",
      "                      0\n",
      "Мясо           1.000000\n",
      "рыба           1.000000\n",
      "суши           1.000000\n",
      "паста               NaN\n",
      "бургер         0.762770\n",
      "пицца          0.762770\n",
      "кофе           0.128788\n",
      "вино          -0.370810\n",
      "Cinema        -0.504608\n",
      "шампанское          NaN\n",
      "пиво                NaN\n",
      "nightlife           NaN\n",
      "Laundry             NaN\n",
      "ДР                  NaN\n",
      "стандарт            NaN\n",
      "люкс                NaN\n",
      "президентский       NaN\n",
      "клубный             NaN\n",
      "кол-во ночей        NaN\n",
      "прож.с живот.       NaN\n",
      "RS                  NaN\n",
      "xl                  NaN\n",
      "Evoo                NaN\n",
      "ju-ju               NaN\n",
      "Rubleff             NaN\n",
      "FM                  NaN\n",
      "DM                  NaN\n",
      "Private Bar         NaN\n",
      "4* 1401-2320        NaN\n",
      "5* 401-1128         NaN\n",
      "рыба\n",
      "                      0\n",
      "Мясо           1.000000\n",
      "рыба           1.000000\n",
      "суши           1.000000\n",
      "паста               NaN\n",
      "бургер         0.762770\n",
      "пицца          0.762770\n",
      "кофе           0.128788\n",
      "вино          -0.370810\n",
      "Cinema        -0.504608\n",
      "шампанское          NaN\n",
      "пиво                NaN\n",
      "nightlife           NaN\n",
      "Laundry             NaN\n",
      "ДР                  NaN\n",
      "стандарт            NaN\n",
      "люкс                NaN\n",
      "президентский       NaN\n",
      "клубный             NaN\n",
      "кол-во ночей        NaN\n",
      "прож.с живот.       NaN\n",
      "RS                  NaN\n",
      "xl                  NaN\n",
      "Evoo                NaN\n",
      "ju-ju               NaN\n",
      "Rubleff             NaN\n",
      "FM                  NaN\n",
      "DM                  NaN\n",
      "Private Bar         NaN\n",
      "4* 1401-2320        NaN\n",
      "5* 401-1128         NaN\n",
      "суши \n",
      "                      0\n",
      "Мясо           1.000000\n",
      "рыба           1.000000\n",
      "суши           1.000000\n",
      "паста               NaN\n",
      "бургер         0.762770\n",
      "пицца          0.762770\n",
      "кофе           0.128788\n",
      "вино          -0.370810\n",
      "Cinema        -0.504608\n",
      "шампанское          NaN\n",
      "пиво                NaN\n",
      "nightlife           NaN\n",
      "Laundry             NaN\n",
      "ДР                  NaN\n",
      "стандарт            NaN\n",
      "люкс                NaN\n",
      "президентский       NaN\n",
      "клубный             NaN\n",
      "кол-во ночей        NaN\n",
      "прож.с живот.       NaN\n",
      "RS                  NaN\n",
      "xl                  NaN\n",
      "Evoo                NaN\n",
      "ju-ju               NaN\n",
      "Rubleff             NaN\n",
      "FM                  NaN\n",
      "DM                  NaN\n",
      "Private Bar         NaN\n",
      "4* 1401-2320        NaN\n",
      "5* 401-1128         NaN\n",
      "паста\n",
      "                0\n",
      "Мясо          NaN\n",
      "рыба          NaN\n",
      "суши          NaN\n",
      "паста         NaN\n",
      "бургер        NaN\n",
      "пицца         NaN\n",
      "кофе          NaN\n",
      "вино          NaN\n",
      "Cinema        NaN\n",
      "шампанское    NaN\n",
      "пиво          NaN\n",
      "nightlife     NaN\n",
      "Laundry       NaN\n",
      "ДР            NaN\n",
      "стандарт      NaN\n",
      "люкс          NaN\n",
      "президентский NaN\n",
      "клубный       NaN\n",
      "кол-во ночей  NaN\n",
      "прож.с живот. NaN\n",
      "RS            NaN\n",
      "xl            NaN\n",
      "Evoo          NaN\n",
      "ju-ju         NaN\n",
      "Rubleff       NaN\n",
      "FM            NaN\n",
      "DM            NaN\n",
      "Private Bar   NaN\n",
      "4* 1401-2320  NaN\n",
      "5* 401-1128   NaN\n"
     ]
    },
    {
     "ename": "KeyError",
     "evalue": "nan",
     "output_type": "error",
     "traceback": [
      "\u001b[0;31m---------------------------------------------------------------------------\u001b[0m",
      "\u001b[0;31mKeyError\u001b[0m                                  Traceback (most recent call last)",
      "\u001b[0;32m/Applications/anaconda3/lib/python3.8/site-packages/pandas/core/indexes/base.py\u001b[0m in \u001b[0;36mget_loc\u001b[0;34m(self, key, method, tolerance)\u001b[0m\n\u001b[1;32m   2894\u001b[0m             \u001b[0;32mtry\u001b[0m\u001b[0;34m:\u001b[0m\u001b[0;34m\u001b[0m\u001b[0;34m\u001b[0m\u001b[0m\n\u001b[0;32m-> 2895\u001b[0;31m                 \u001b[0;32mreturn\u001b[0m \u001b[0mself\u001b[0m\u001b[0;34m.\u001b[0m\u001b[0m_engine\u001b[0m\u001b[0;34m.\u001b[0m\u001b[0mget_loc\u001b[0m\u001b[0;34m(\u001b[0m\u001b[0mcasted_key\u001b[0m\u001b[0;34m)\u001b[0m\u001b[0;34m\u001b[0m\u001b[0;34m\u001b[0m\u001b[0m\n\u001b[0m\u001b[1;32m   2896\u001b[0m             \u001b[0;32mexcept\u001b[0m \u001b[0mKeyError\u001b[0m \u001b[0;32mas\u001b[0m \u001b[0merr\u001b[0m\u001b[0;34m:\u001b[0m\u001b[0;34m\u001b[0m\u001b[0;34m\u001b[0m\u001b[0m\n",
      "\u001b[0;32mpandas/_libs/index.pyx\u001b[0m in \u001b[0;36mpandas._libs.index.IndexEngine.get_loc\u001b[0;34m()\u001b[0m\n",
      "\u001b[0;32mpandas/_libs/index.pyx\u001b[0m in \u001b[0;36mpandas._libs.index.IndexEngine.get_loc\u001b[0;34m()\u001b[0m\n",
      "\u001b[0;32mpandas/_libs/hashtable_class_helper.pxi\u001b[0m in \u001b[0;36mpandas._libs.hashtable.PyObjectHashTable.get_item\u001b[0;34m()\u001b[0m\n",
      "\u001b[0;32mpandas/_libs/hashtable_class_helper.pxi\u001b[0m in \u001b[0;36mpandas._libs.hashtable.PyObjectHashTable.get_item\u001b[0;34m()\u001b[0m\n",
      "\u001b[0;31mKeyError\u001b[0m: nan",
      "\nThe above exception was the direct cause of the following exception:\n",
      "\u001b[0;31mKeyError\u001b[0m                                  Traceback (most recent call last)",
      "\u001b[0;32m<ipython-input-235-15e468ed8ac2>\u001b[0m in \u001b[0;36m<module>\u001b[0;34m\u001b[0m\n\u001b[1;32m     11\u001b[0m     \u001b[0;32mwhile\u001b[0m \u001b[0mk\u001b[0m \u001b[0;34m!=\u001b[0m \u001b[0;36m1\u001b[0m\u001b[0;34m:\u001b[0m\u001b[0;34m\u001b[0m\u001b[0;34m\u001b[0m\u001b[0m\n\u001b[1;32m     12\u001b[0m         \u001b[0mname\u001b[0m \u001b[0;34m=\u001b[0m \u001b[0mtempMatr\u001b[0m\u001b[0;34m.\u001b[0m\u001b[0midxmax\u001b[0m\u001b[0;34m(\u001b[0m\u001b[0;34m)\u001b[0m\u001b[0;34m.\u001b[0m\u001b[0mitem\u001b[0m\u001b[0;34m(\u001b[0m\u001b[0;34m)\u001b[0m\u001b[0;34m\u001b[0m\u001b[0;34m\u001b[0m\u001b[0m\n\u001b[0;32m---> 13\u001b[0;31m         \u001b[0mvalue\u001b[0m \u001b[0;34m=\u001b[0m \u001b[0mtempMatr\u001b[0m\u001b[0;34m[\u001b[0m\u001b[0;36m0\u001b[0m\u001b[0;34m]\u001b[0m\u001b[0;34m[\u001b[0m\u001b[0mtempMatr\u001b[0m\u001b[0;34m.\u001b[0m\u001b[0midxmax\u001b[0m\u001b[0;34m(\u001b[0m\u001b[0;34m)\u001b[0m\u001b[0;34m.\u001b[0m\u001b[0mitem\u001b[0m\u001b[0;34m(\u001b[0m\u001b[0;34m)\u001b[0m\u001b[0;34m]\u001b[0m\u001b[0;34m\u001b[0m\u001b[0;34m\u001b[0m\u001b[0m\n\u001b[0m\u001b[1;32m     14\u001b[0m \u001b[0;34m\u001b[0m\u001b[0m\n\u001b[1;32m     15\u001b[0m         \u001b[0mrecList\u001b[0m\u001b[0;34m.\u001b[0m\u001b[0mappend\u001b[0m\u001b[0;34m(\u001b[0m\u001b[0;34m[\u001b[0m\u001b[0mrow\u001b[0m\u001b[0;34m,\u001b[0m\u001b[0mname\u001b[0m\u001b[0;34m,\u001b[0m\u001b[0mvalue\u001b[0m\u001b[0;34m]\u001b[0m\u001b[0;34m)\u001b[0m\u001b[0;34m\u001b[0m\u001b[0;34m\u001b[0m\u001b[0m\n",
      "\u001b[0;32m/Applications/anaconda3/lib/python3.8/site-packages/pandas/core/series.py\u001b[0m in \u001b[0;36m__getitem__\u001b[0;34m(self, key)\u001b[0m\n\u001b[1;32m    880\u001b[0m \u001b[0;34m\u001b[0m\u001b[0m\n\u001b[1;32m    881\u001b[0m         \u001b[0;32melif\u001b[0m \u001b[0mkey_is_scalar\u001b[0m\u001b[0;34m:\u001b[0m\u001b[0;34m\u001b[0m\u001b[0;34m\u001b[0m\u001b[0m\n\u001b[0;32m--> 882\u001b[0;31m             \u001b[0;32mreturn\u001b[0m \u001b[0mself\u001b[0m\u001b[0;34m.\u001b[0m\u001b[0m_get_value\u001b[0m\u001b[0;34m(\u001b[0m\u001b[0mkey\u001b[0m\u001b[0;34m)\u001b[0m\u001b[0;34m\u001b[0m\u001b[0;34m\u001b[0m\u001b[0m\n\u001b[0m\u001b[1;32m    883\u001b[0m \u001b[0;34m\u001b[0m\u001b[0m\n\u001b[1;32m    884\u001b[0m         \u001b[0;32mif\u001b[0m \u001b[0mis_hashable\u001b[0m\u001b[0;34m(\u001b[0m\u001b[0mkey\u001b[0m\u001b[0;34m)\u001b[0m\u001b[0;34m:\u001b[0m\u001b[0;34m\u001b[0m\u001b[0;34m\u001b[0m\u001b[0m\n",
      "\u001b[0;32m/Applications/anaconda3/lib/python3.8/site-packages/pandas/core/series.py\u001b[0m in \u001b[0;36m_get_value\u001b[0;34m(self, label, takeable)\u001b[0m\n\u001b[1;32m    987\u001b[0m \u001b[0;34m\u001b[0m\u001b[0m\n\u001b[1;32m    988\u001b[0m         \u001b[0;31m# Similar to Index.get_value, but we do not fall back to positional\u001b[0m\u001b[0;34m\u001b[0m\u001b[0;34m\u001b[0m\u001b[0;34m\u001b[0m\u001b[0m\n\u001b[0;32m--> 989\u001b[0;31m         \u001b[0mloc\u001b[0m \u001b[0;34m=\u001b[0m \u001b[0mself\u001b[0m\u001b[0;34m.\u001b[0m\u001b[0mindex\u001b[0m\u001b[0;34m.\u001b[0m\u001b[0mget_loc\u001b[0m\u001b[0;34m(\u001b[0m\u001b[0mlabel\u001b[0m\u001b[0;34m)\u001b[0m\u001b[0;34m\u001b[0m\u001b[0;34m\u001b[0m\u001b[0m\n\u001b[0m\u001b[1;32m    990\u001b[0m         \u001b[0;32mreturn\u001b[0m \u001b[0mself\u001b[0m\u001b[0;34m.\u001b[0m\u001b[0mindex\u001b[0m\u001b[0;34m.\u001b[0m\u001b[0m_get_values_for_loc\u001b[0m\u001b[0;34m(\u001b[0m\u001b[0mself\u001b[0m\u001b[0;34m,\u001b[0m \u001b[0mloc\u001b[0m\u001b[0;34m,\u001b[0m \u001b[0mlabel\u001b[0m\u001b[0;34m)\u001b[0m\u001b[0;34m\u001b[0m\u001b[0;34m\u001b[0m\u001b[0m\n\u001b[1;32m    991\u001b[0m \u001b[0;34m\u001b[0m\u001b[0m\n",
      "\u001b[0;32m/Applications/anaconda3/lib/python3.8/site-packages/pandas/core/indexes/base.py\u001b[0m in \u001b[0;36mget_loc\u001b[0;34m(self, key, method, tolerance)\u001b[0m\n\u001b[1;32m   2895\u001b[0m                 \u001b[0;32mreturn\u001b[0m \u001b[0mself\u001b[0m\u001b[0;34m.\u001b[0m\u001b[0m_engine\u001b[0m\u001b[0;34m.\u001b[0m\u001b[0mget_loc\u001b[0m\u001b[0;34m(\u001b[0m\u001b[0mcasted_key\u001b[0m\u001b[0;34m)\u001b[0m\u001b[0;34m\u001b[0m\u001b[0;34m\u001b[0m\u001b[0m\n\u001b[1;32m   2896\u001b[0m             \u001b[0;32mexcept\u001b[0m \u001b[0mKeyError\u001b[0m \u001b[0;32mas\u001b[0m \u001b[0merr\u001b[0m\u001b[0;34m:\u001b[0m\u001b[0;34m\u001b[0m\u001b[0;34m\u001b[0m\u001b[0m\n\u001b[0;32m-> 2897\u001b[0;31m                 \u001b[0;32mraise\u001b[0m \u001b[0mKeyError\u001b[0m\u001b[0;34m(\u001b[0m\u001b[0mkey\u001b[0m\u001b[0;34m)\u001b[0m \u001b[0;32mfrom\u001b[0m \u001b[0merr\u001b[0m\u001b[0;34m\u001b[0m\u001b[0;34m\u001b[0m\u001b[0m\n\u001b[0m\u001b[1;32m   2898\u001b[0m \u001b[0;34m\u001b[0m\u001b[0m\n\u001b[1;32m   2899\u001b[0m         \u001b[0;32mif\u001b[0m \u001b[0mtolerance\u001b[0m \u001b[0;32mis\u001b[0m \u001b[0;32mnot\u001b[0m \u001b[0;32mNone\u001b[0m\u001b[0;34m:\u001b[0m\u001b[0;34m\u001b[0m\u001b[0;34m\u001b[0m\u001b[0m\n",
      "\u001b[0;31mKeyError\u001b[0m: nan"
     ]
    }
   ],
   "source": [
    "recList=list()\n",
    "\n",
    "for row in df:  \n",
    "    print(row)\n",
    "    k = 0 # Количество похожих объектов\n",
    "    corrMatr=df.corrwith(df[row])\n",
    "    corrMatr=pd.DataFrame(corrMatr)\n",
    "    tempMatr=corrMatr\n",
    "    print(tempMatr)\n",
    "    tempMatr=tempMatr.drop([row],axis=0)\n",
    "    while k != 1:\n",
    "        name = tempMatr.idxmax().item()\n",
    "        value = tempMatr[0][tempMatr.idxmax().item()]\n",
    "        \n",
    "        recList.append([row,name,value])\n",
    "        tempMatr=tempMatr.drop([tempMatr.idxmax().item()],axis=0)\n",
    "        k += 1\n",
    "recomendations=recomendations.append(recList, ignore_index=True)\n",
    "recomendations.to_excel('/Users/shadle/Downloads/result1.xlsx')"
   ]
  },
  {
   "cell_type": "code",
   "execution_count": null,
   "metadata": {},
   "outputs": [],
   "source": []
  },
  {
   "cell_type": "code",
   "execution_count": null,
   "metadata": {},
   "outputs": [],
   "source": []
  },
  {
   "cell_type": "code",
   "execution_count": null,
   "metadata": {},
   "outputs": [],
   "source": []
  },
  {
   "cell_type": "code",
   "execution_count": null,
   "metadata": {},
   "outputs": [],
   "source": []
  },
  {
   "cell_type": "code",
   "execution_count": null,
   "metadata": {},
   "outputs": [],
   "source": []
  },
  {
   "cell_type": "code",
   "execution_count": null,
   "metadata": {},
   "outputs": [],
   "source": []
  }
 ],
 "metadata": {
  "kernelspec": {
   "display_name": "Python 3",
   "language": "python",
   "name": "python3"
  },
  "language_info": {
   "codemirror_mode": {
    "name": "ipython",
    "version": 3
   },
   "file_extension": ".py",
   "mimetype": "text/x-python",
   "name": "python",
   "nbconvert_exporter": "python",
   "pygments_lexer": "ipython3",
   "version": "3.8.5"
  }
 },
 "nbformat": 4,
 "nbformat_minor": 4
}
